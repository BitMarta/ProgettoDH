{
  "nbformat": 4,
  "nbformat_minor": 0,
  "metadata": {
    "colab": {
      "name": "Twitter API.ipynb",
      "provenance": [],
      "authorship_tag": "ABX9TyOXqdOJicvPfIeh8UPtnj+d",
      "include_colab_link": true
    },
    "kernelspec": {
      "name": "python3",
      "display_name": "Python 3"
    },
    "language_info": {
      "name": "python"
    }
  },
  "cells": [
    {
      "cell_type": "markdown",
      "metadata": {
        "id": "view-in-github",
        "colab_type": "text"
      },
      "source": [
        "<a href=\"https://colab.research.google.com/github/BitMarta/ProgettoDH/blob/main/Twitter_API.ipynb\" target=\"_parent\"><img src=\"https://colab.research.google.com/assets/colab-badge.svg\" alt=\"Open In Colab\"/></a>"
      ]
    },
    {
      "cell_type": "markdown",
      "source": [
        "##Blocco Note Twitter API\n",
        "###Questo blocco note è necesssario per scaricare Data da Twitter attraverso un account Developer. In questo caso scaricherò tweet sulla serie tv firmata Netflix, ovvero \"Bridgerton\""
      ],
      "metadata": {
        "id": "JyKH1eS75Xm4"
      }
    },
    {
      "cell_type": "code",
      "source": [
        "#Primo passaggio scaricare pd di Pandas\n",
        "import pandas as pd"
      ],
      "metadata": {
        "id": "Yxez4eJ65r3w"
      },
      "execution_count": 1,
      "outputs": []
    },
    {
      "cell_type": "code",
      "source": [
        "#Installiamo  i pacchetti TWARK\n",
        "!pip install twarc\n",
        "!pip3 install --upgrade twarc-csv"
      ],
      "metadata": {
        "id": "sF_tjWBd6OiH"
      },
      "execution_count": null,
      "outputs": []
    },
    {
      "cell_type": "code",
      "source": [
        "#Configuriamo il pacchetto, mettendo la chiave API di Twitter\n",
        "!twarc2 configure"
      ],
      "metadata": {
        "id": "Sjvkrs896bsP"
      },
      "execution_count": null,
      "outputs": []
    },
    {
      "cell_type": "code",
      "source": [
        "#Download dei tweet\n",
        "!twarc2 search --limit 10000 \"bridgerton\" results.jsonl"
      ],
      "metadata": {
        "colab": {
          "base_uri": "https://localhost:8080/"
        },
        "id": "xzu-7tuC6nwY",
        "outputId": "70f01943-9236-41e1-a465-bcf9324c65e8"
      },
      "execution_count": 4,
      "outputs": [
        {
          "output_type": "stream",
          "name": "stdout",
          "text": [
            "Set --limit of 10000 reached:  11% 63787379/604770000 [01:33<13:10, 684067.33it/s]\n"
          ]
        }
      ]
    },
    {
      "cell_type": "code",
      "source": [
        "#Converte json in un file csv (con pandas)\n",
        "\n",
        "!twarc2 csv results.jsonl tweets.csv"
      ],
      "metadata": {
        "colab": {
          "base_uri": "https://localhost:8080/"
        },
        "id": "wownLgf47K5Q",
        "outputId": "7c1b5005-2a55-48f6-deb9-376a73a85816"
      },
      "execution_count": 5,
      "outputs": [
        {
          "output_type": "stream",
          "name": "stdout",
          "text": [
            "100% 31.6M/31.6M [00:07<00:00, 4.34MB/s]\n",
            "\n",
            "ℹ️\n",
            "Parsed 10060 tweets objects from 101 lines in the input file.\n",
            "Wrote 10060 rows and output 74 columns in the CSV.\n",
            "\n"
          ]
        }
      ]
    },
    {
      "cell_type": "code",
      "source": [
        "#Per leggere il file\n",
        "\n",
        "df = pd.read_csv('tweets.csv')\n",
        "df.head()"
      ],
      "metadata": {
        "id": "QorE0p_x7TCH"
      },
      "execution_count": null,
      "outputs": []
    },
    {
      "cell_type": "code",
      "source": [
        "for item in df.text:\n",
        "  print(item)"
      ],
      "metadata": {
        "id": "hO87d2d-9muZ"
      },
      "execution_count": null,
      "outputs": []
    }
  ]
}