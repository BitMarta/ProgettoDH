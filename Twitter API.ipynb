{
  "nbformat": 4,
  "nbformat_minor": 0,
  "metadata": {
    "colab": {
      "name": "Untitled7.ipynb",
      "provenance": [],
      "authorship_tag": "ABX9TyMMcBLccuPl2KrV8ZzznYuR",
      "include_colab_link": true
    },
    "kernelspec": {
      "name": "python3",
      "display_name": "Python 3"
    },
    "language_info": {
      "name": "python"
    }
  },
  "cells": [
    {
      "cell_type": "markdown",
      "metadata": {
        "id": "view-in-github",
        "colab_type": "text"
      },
      "source": [
        "<a href=\"https://colab.research.google.com/github/BitMarta/ProgettoDH/blob/main/Twitter%20API.ipynb\" target=\"_parent\"><img src=\"https://colab.research.google.com/assets/colab-badge.svg\" alt=\"Open In Colab\"/></a>"
      ]
    },
    {
      "cell_type": "markdown",
      "source": [
        "##Blocco Note Twitter API\n",
        "###Questo blocco note è necesssario per scaricare Data da Twitter attraverso un account Developer. In questo caso scaricherò tweet sulla serie tv firmata Netflix, ovvero \"Bridgerton\""
      ],
      "metadata": {
        "id": "JyKH1eS75Xm4"
      }
    },
    {
      "cell_type": "code",
      "source": [
        "#Primo passaggio scaricare pd di Pandas\n",
        "import pandas as pd"
      ],
      "metadata": {
        "id": "Yxez4eJ65r3w"
      },
      "execution_count": null,
      "outputs": []
    },
    {
      "cell_type": "code",
      "source": [
        "#Installiamo  i pacchetti TWARK\n",
        "!pip install twarc\n",
        "!pip3 install --upgrade twarc-csv"
      ],
      "metadata": {
        "id": "sF_tjWBd6OiH"
      },
      "execution_count": null,
      "outputs": []
    },
    {
      "cell_type": "code",
      "source": [
        "#Configuriamo il pacchetto, mettendo la chiave API di Twitter\n",
        "!twarc2 configure"
      ],
      "metadata": {
        "id": "Sjvkrs896bsP"
      },
      "execution_count": null,
      "outputs": []
    },
    {
      "cell_type": "code",
      "source": [
        "#Download dei tweet\n",
        "!twarc2 search --limit 20000 \"bridgerton\" results.jsonl"
      ],
      "metadata": {
        "id": "xzu-7tuC6nwY"
      },
      "execution_count": null,
      "outputs": []
    },
    {
      "cell_type": "code",
      "source": [
        "#Converte json in un file csv (con pandas)\n",
        "\n",
        "!twarc2 csv results.jsonl tweets.csv"
      ],
      "metadata": {
        "id": "wownLgf47K5Q"
      },
      "execution_count": null,
      "outputs": []
    },
    {
      "cell_type": "code",
      "source": [
        "#Per leggere il file\n",
        "\n",
        "df = pd.read_csv('tweets.csv')\n",
        "df.head()"
      ],
      "metadata": {
        "id": "QorE0p_x7TCH"
      },
      "execution_count": null,
      "outputs": []
    }
  ]
}